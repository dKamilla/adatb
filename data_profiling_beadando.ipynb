{
    "metadata": {
        "kernelspec": {
            "name": "SQL",
            "display_name": "SQL",
            "language": "sql"
        },
        "language_info": {
            "name": "sql",
            "version": ""
        }
    },
    "nbformat_minor": 2,
    "nbformat": 4,
    "cells": [
        {
            "cell_type": "code",
            "source": [
                "SELECT MIN(LISTAAR) AS \"legalacsonyabb ár\", \r\n",
                "       MAX(LISTAAR) AS \"legmagasabb ár\", \r\n",
                "       ROUND(AVG(LISTAAR), 2) AS \"átlagár\", \r\n",
                "       ROUND(STDEV(LISTAAR), 2) AS \"a listaárak szórása\"\r\n",
                "FROM Termek\r\n",
                "WHERE LISTAAR IS NOT NULL"
            ],
            "metadata": {
                "azdata_cell_guid": "dd42298d-b64f-493e-aa04-d1d0f5f8214d",
                "language": "sql",
                "tags": []
            },
            "outputs": [
                {
                    "output_type": "display_data",
                    "data": {
                        "text/html": "(1 row affected)"
                    },
                    "metadata": {}
                },
                {
                    "output_type": "display_data",
                    "data": {
                        "text/html": "Total execution time: 00:00:00.081"
                    },
                    "metadata": {}
                },
                {
                    "output_type": "execute_result",
                    "metadata": {},
                    "execution_count": 12,
                    "data": {
                        "application/vnd.dataresource+json": {
                            "schema": {
                                "fields": [
                                    {
                                        "name": "legalacsonyabb ár"
                                    },
                                    {
                                        "name": "legmagasabb ár"
                                    },
                                    {
                                        "name": "átlagár"
                                    },
                                    {
                                        "name": "a listaárak szórása"
                                    }
                                ]
                            },
                            "data": [
                                {
                                    "legalacsonyabb ár": "0",
                                    "legmagasabb ár": "46000",
                                    "átlagár": "786,28",
                                    "a listaárak szórása": "3602,48"
                                }
                            ]
                        },
                        "text/html": [
                            "<table>",
                            "<tr><th>legalacsonyabb ár</th><th>legmagasabb ár</th><th>átlagár</th><th>a listaárak szórása</th></tr>",
                            "<tr><td>0</td><td>46000</td><td>786,28</td><td>3602,48</td></tr>",
                            "</table>"
                        ]
                    }
                }
            ],
            "execution_count": 12
        },
        {
            "cell_type": "code",
            "source": [
                "SELECT TOP 10\r\n",
                "    MEGNEVEZES AS 'termék neve', \r\n",
                "    COUNT(KAT_ID) as 'darabszám'\r\n",
                "from TERMEK\r\n",
                "WHERE MEGNEVEZES IS NOT null\r\n",
                "GROUP BY MEGNEVEZES\r\n",
                "ORDER BY COUNT(*) desc"
            ],
            "metadata": {
                "azdata_cell_guid": "871f6ff4-a879-41da-9c30-df1e30a945ff",
                "language": "sql"
            },
            "outputs": [
                {
                    "output_type": "display_data",
                    "data": {
                        "text/html": "(10 rows affected)"
                    },
                    "metadata": {}
                },
                {
                    "output_type": "display_data",
                    "data": {
                        "text/html": "Total execution time: 00:00:00.014"
                    },
                    "metadata": {}
                },
                {
                    "output_type": "execute_result",
                    "metadata": {},
                    "execution_count": 13,
                    "data": {
                        "application/vnd.dataresource+json": {
                            "schema": {
                                "fields": [
                                    {
                                        "name": "termék neve"
                                    },
                                    {
                                        "name": "darabszám"
                                    }
                                ]
                            },
                            "data": [
                                {
                                    "termék neve": "Ajándék cs. tasak kicsi",
                                    "darabszám": "2"
                                },
                                {
                                    "termék neve": "Emlékkönyv",
                                    "darabszám": "2"
                                },
                                {
                                    "termék neve": "Füzettartó A/4 keménytáblás",
                                    "darabszám": "2"
                                },
                                {
                                    "termék neve": "Golyóstoll",
                                    "darabszám": "2"
                                },
                                {
                                    "termék neve": "Gyorsfűző műa.",
                                    "darabszám": "2"
                                },
                                {
                                    "termék neve": "Képeslap humoros ",
                                    "darabszám": "2"
                                },
                                {
                                    "termék neve": "Levélpapír szett",
                                    "darabszám": "2"
                                },
                                {
                                    "termék neve": "Szövegkiemelő ",
                                    "darabszám": "2"
                                },
                                {
                                    "termék neve": "Ajándék cs. tasak italos, fólia",
                                    "darabszám": "1"
                                },
                                {
                                    "termék neve": "Ajándék cs. tasak italos",
                                    "darabszám": "1"
                                }
                            ]
                        },
                        "text/html": [
                            "<table>",
                            "<tr><th>termék neve</th><th>darabszám</th></tr>",
                            "<tr><td>Ajándék cs. tasak kicsi</td><td>2</td></tr>",
                            "<tr><td>Emlékkönyv</td><td>2</td></tr>",
                            "<tr><td>Füzettartó A/4 keménytáblás</td><td>2</td></tr>",
                            "<tr><td>Golyóstoll</td><td>2</td></tr>",
                            "<tr><td>Gyorsfűző műa.</td><td>2</td></tr>",
                            "<tr><td>Képeslap humoros </td><td>2</td></tr>",
                            "<tr><td>Levélpapír szett</td><td>2</td></tr>",
                            "<tr><td>Szövegkiemelő </td><td>2</td></tr>",
                            "<tr><td>Ajándék cs. tasak italos, fólia</td><td>1</td></tr>",
                            "<tr><td>Ajándék cs. tasak italos</td><td>1</td></tr>",
                            "</table>"
                        ]
                    }
                }
            ],
            "execution_count": 13
        },
        {
            "cell_type": "code",
            "source": [
                "SELECT \r\n",
                "    SUM(CASE WHEN KESZLET < 200 THEN 1 ELSE 0 end) AS 'Alacsony készlet',\r\n",
                "    SUM(CASE WHEN KESZLET BETWEEN 200 and 1000 THEN 1 ELSE 0 end) AS  'Közepes készlet',\r\n",
                "    SUM(CASE WHEN KESZLET > 1000 THEN 1 ELSE 0 end) AS 'Magas készlet'\r\n",
                "FROM Termek\r\n",
                "\r\n",
                ""
            ],
            "metadata": {
                "azdata_cell_guid": "8fefd643-a24f-4703-8ac5-a7e338f069e4",
                "language": "sql",
                "tags": []
            },
            "outputs": [
                {
                    "output_type": "display_data",
                    "data": {
                        "text/html": "(1 row affected)"
                    },
                    "metadata": {}
                },
                {
                    "output_type": "display_data",
                    "data": {
                        "text/html": "Total execution time: 00:00:00.009"
                    },
                    "metadata": {}
                },
                {
                    "output_type": "execute_result",
                    "metadata": {},
                    "execution_count": 14,
                    "data": {
                        "application/vnd.dataresource+json": {
                            "schema": {
                                "fields": [
                                    {
                                        "name": "Alacsony készlet"
                                    },
                                    {
                                        "name": "Közepes készlet"
                                    },
                                    {
                                        "name": "Magas készlet"
                                    }
                                ]
                            },
                            "data": [
                                {
                                    "Alacsony készlet": "120",
                                    "Közepes készlet": "285",
                                    "Magas készlet": "146"
                                }
                            ]
                        },
                        "text/html": [
                            "<table>",
                            "<tr><th>Alacsony készlet</th><th>Közepes készlet</th><th>Magas készlet</th></tr>",
                            "<tr><td>120</td><td>285</td><td>146</td></tr>",
                            "</table>"
                        ]
                    }
                }
            ],
            "execution_count": 14
        },
        {
            "cell_type": "markdown",
            "source": [
                "![](data:image/png;base64,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)"
            ],
            "metadata": {
                "azdata_cell_guid": "0939aeff-ef38-41eb-9c6c-e36cf76eda88"
            },
            "attachments": {}
        },
        {
            "cell_type": "code",
            "source": [
                "SELECT COUNT(DISTINCT KAT_ID) AS 'kategóriák száma'\r\n",
                "FROM Termek\r\n",
                "WHERE KAT_ID IS NOT NULL"
            ],
            "metadata": {
                "azdata_cell_guid": "5f8ef030-99bd-4030-adc0-995f9d7457af",
                "language": "sql"
            },
            "outputs": [
                {
                    "output_type": "display_data",
                    "data": {
                        "text/html": "(1 row affected)"
                    },
                    "metadata": {}
                },
                {
                    "output_type": "display_data",
                    "data": {
                        "text/html": "Total execution time: 00:00:00.012"
                    },
                    "metadata": {}
                },
                {
                    "output_type": "execute_result",
                    "metadata": {},
                    "execution_count": 15,
                    "data": {
                        "application/vnd.dataresource+json": {
                            "schema": {
                                "fields": [
                                    {
                                        "name": "kategóriák száma"
                                    }
                                ]
                            },
                            "data": [
                                {
                                    "kategóriák száma": "143"
                                }
                            ]
                        },
                        "text/html": [
                            "<table>",
                            "<tr><th>kategóriák száma</th></tr>",
                            "<tr><td>143</td></tr>",
                            "</table>"
                        ]
                    }
                }
            ],
            "execution_count": 15
        },
        {
            "cell_type": "code",
            "source": [
                "SELECT MIN(FELVITEL) AS 'első rögzítés dátuma', \r\n",
                "       MAX(FELVITEL) AS 'utolsó rögzítés dátuma',\r\n",
                "       (CAST(DATEDIFF(DAY, MIN(FELVITEL), MAX(FELVITEL)) as nvarchar(4)) + ' nap') as 'rögzítés intervalluma'\r\n",
                "FROM Termek\r\n",
                ""
            ],
            "metadata": {
                "azdata_cell_guid": "60716b3d-3e25-450b-af30-a0d73715d38e",
                "language": "sql"
            },
            "outputs": [
                {
                    "output_type": "display_data",
                    "data": {
                        "text/html": "(1 row affected)"
                    },
                    "metadata": {}
                },
                {
                    "output_type": "display_data",
                    "data": {
                        "text/html": "Total execution time: 00:00:00.015"
                    },
                    "metadata": {}
                },
                {
                    "output_type": "execute_result",
                    "metadata": {},
                    "execution_count": 16,
                    "data": {
                        "application/vnd.dataresource+json": {
                            "schema": {
                                "fields": [
                                    {
                                        "name": "első rögzítés dátuma"
                                    },
                                    {
                                        "name": "utolsó rögzítés dátuma"
                                    },
                                    {
                                        "name": "rögzítés intervalluma"
                                    }
                                ]
                            },
                            "data": [
                                {
                                    "első rögzítés dátuma": "2016-07-01",
                                    "utolsó rögzítés dátuma": "2016-12-11",
                                    "rögzítés intervalluma": "163 nap"
                                }
                            ]
                        },
                        "text/html": [
                            "<table>",
                            "<tr><th>első rögzítés dátuma</th><th>utolsó rögzítés dátuma</th><th>rögzítés intervalluma</th></tr>",
                            "<tr><td>2016-07-01</td><td>2016-12-11</td><td>163 nap</td></tr>",
                            "</table>"
                        ]
                    }
                }
            ],
            "execution_count": 16
        }
    ]
}