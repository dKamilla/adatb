{
    "metadata": {
        "kernelspec": {
            "name": "SQL",
            "display_name": "SQL",
            "language": "sql"
        },
        "language_info": {
            "name": "sql",
            "version": ""
        }
    },
    "nbformat_minor": 2,
    "nbformat": 4,
    "cells": [
        {
            "cell_type": "markdown",
            "source": [
                "1. <span style=\"background-color: rgb(255, 255, 255); color: rgb(0, 0, 0); font-family: &quot;Open Sans&quot;, sans-serif; font-size: 14.44px;\">Készítsünk listát arról, hogy ügyfelenként (LOGIN), azon belül szállítási módonként hány megrendelés történt!&nbsp;</span> \n",
                "\n",
                "a. A lista tartalmazza a részösszegeket és a végösszeget is!  \n",
                "b. Használjuk a ROLLUP záradékot!"
            ],
            "metadata": {
                "azdata_cell_guid": "363cd270-6577-449b-9c89-d4b7c7972d52"
            },
            "attachments": {}
        },
        {
            "cell_type": "code",
            "source": [
                "SELECT [LOGIN],  SZALL_MOD, COUNt(SORSZAM)\r\n",
                "from Rendeles\r\n",
                "group by CUBE ([LOGIN], SZALL_MOD ) -- rollup: felhasználónként a részösszegeket is megjelenítni, a CUBE: külön a szállítási módot is csoportosítja (ezért van 3-al több sor, mert a 3 szaállítási módnak is van 1-1 oszlop )"
            ],
            "metadata": {
                "azdata_cell_guid": "6ab9f633-a3b5-48c9-a1dc-4fb8235ae85b",
                "language": "sql",
                "tags": []
            },
            "outputs": [],
            "execution_count": null
        },
        {
            "cell_type": "markdown",
            "source": [
                "2. <span style=\"background-color: rgb(255, 255, 255); color: rgb(0, 0, 0); font-family: &quot;Open Sans&quot;, sans-serif; font-size: 14.44px;\">Készítsünk listát a termékek számáról a következő csoportosítási szempontok szerint:<br>kategória azonosító, raktárkód, raktárkód+mennyiségi egység!</span>\n",
                "\n",
                "a. A listát szűrjük azokra a csoportokra, ahol a termékek száma legalább 6!"
            ],
            "metadata": {
                "azdata_cell_guid": "ea75c103-911f-41a3-a32c-3d40fb3e4e4a"
            },
            "attachments": {}
        },
        {
            "cell_type": "code",
            "source": [
                "select KAT_ID, raktar_kod, megys, count(*)\r\n",
                "from Termek\r\n",
                "group by grouping sets(KAT_ID, RAKTAR_KOD, (RAKTAR_KOD, MEGYS)) -- ha több szempontból kell, azt így, sorban, hogy az első másdik csoport mi szerint lesz kategorizálva\r\n",
                "having count(*) > = 6\r\n",
                "-- most azt nézzük, hogy mi van, ha több csoportot kéne képezni "
            ],
            "metadata": {
                "azdata_cell_guid": "222b9618-a8e8-42b4-a8e8-d002257122b7",
                "language": "sql"
            },
            "outputs": [
                {
                    "output_type": "display_data",
                    "data": {
                        "text/html": "(49 rows affected)"
                    },
                    "metadata": {}
                },
                {
                    "output_type": "display_data",
                    "data": {
                        "text/html": "Total execution time: 00:00:00.013"
                    },
                    "metadata": {}
                },
                {
                    "output_type": "execute_result",
                    "metadata": {},
                    "execution_count": 22,
                    "data": {
                        "application/vnd.dataresource+json": {
                            "schema": {
                                "fields": [
                                    {
                                        "name": "KAT_ID"
                                    },
                                    {
                                        "name": "raktar_kod"
                                    },
                                    {
                                        "name": "megys"
                                    },
                                    {
                                        "name": "(No column name)"
                                    }
                                ]
                            },
                            "data": [
                                {
                                    "KAT_ID": "NULL",
                                    "raktar_kod": "1",
                                    "megys": "db",
                                    "(No column name)": "11"
                                },
                                {
                                    "KAT_ID": "NULL",
                                    "raktar_kod": "1",
                                    "megys": "NULL",
                                    "(No column name)": "11"
                                },
                                {
                                    "KAT_ID": "NULL",
                                    "raktar_kod": "3",
                                    "megys": "db",
                                    "(No column name)": "14"
                                },
                                {
                                    "KAT_ID": "NULL",
                                    "raktar_kod": "3",
                                    "megys": "NULL",
                                    "(No column name)": "14"
                                },
                                {
                                    "KAT_ID": "NULL",
                                    "raktar_kod": "5",
                                    "megys": "csomag",
                                    "(No column name)": "7"
                                },
                                {
                                    "KAT_ID": "NULL",
                                    "raktar_kod": "5",
                                    "megys": "db",
                                    "(No column name)": "72"
                                },
                                {
                                    "KAT_ID": "NULL",
                                    "raktar_kod": "5",
                                    "megys": "NULL",
                                    "(No column name)": "86"
                                },
                                {
                                    "KAT_ID": "NULL",
                                    "raktar_kod": "6",
                                    "megys": "csomag",
                                    "(No column name)": "9"
                                },
                                {
                                    "KAT_ID": "NULL",
                                    "raktar_kod": "6",
                                    "megys": "db",
                                    "(No column name)": "94"
                                },
                                {
                                    "KAT_ID": "NULL",
                                    "raktar_kod": "6",
                                    "megys": "NULL",
                                    "(No column name)": "106"
                                },
                                {
                                    "KAT_ID": "NULL",
                                    "raktar_kod": "7",
                                    "megys": "csomag",
                                    "(No column name)": "9"
                                },
                                {
                                    "KAT_ID": "NULL",
                                    "raktar_kod": "7",
                                    "megys": "db",
                                    "(No column name)": "88"
                                },
                                {
                                    "KAT_ID": "NULL",
                                    "raktar_kod": "7",
                                    "megys": "NULL",
                                    "(No column name)": "100"
                                },
                                {
                                    "KAT_ID": "NULL",
                                    "raktar_kod": "8",
                                    "megys": "csomag",
                                    "(No column name)": "8"
                                },
                                {
                                    "KAT_ID": "NULL",
                                    "raktar_kod": "8",
                                    "megys": "db",
                                    "(No column name)": "109"
                                },
                                {
                                    "KAT_ID": "NULL",
                                    "raktar_kod": "8",
                                    "megys": "ív",
                                    "(No column name)": "6"
                                },
                                {
                                    "KAT_ID": "NULL",
                                    "raktar_kod": "8",
                                    "megys": "NULL",
                                    "(No column name)": "123"
                                },
                                {
                                    "KAT_ID": "NULL",
                                    "raktar_kod": "9",
                                    "megys": "csomag",
                                    "(No column name)": "11"
                                },
                                {
                                    "KAT_ID": "NULL",
                                    "raktar_kod": "9",
                                    "megys": "db",
                                    "(No column name)": "86"
                                },
                                {
                                    "KAT_ID": "NULL",
                                    "raktar_kod": "9",
                                    "megys": "NULL",
                                    "(No column name)": "102"
                                },
                                {
                                    "KAT_ID": "4",
                                    "raktar_kod": "NULL",
                                    "megys": "NULL",
                                    "(No column name)": "15"
                                },
                                {
                                    "KAT_ID": "6",
                                    "raktar_kod": "NULL",
                                    "megys": "NULL",
                                    "(No column name)": "20"
                                },
                                {
                                    "KAT_ID": "16",
                                    "raktar_kod": "NULL",
                                    "megys": "NULL",
                                    "(No column name)": "7"
                                },
                                {
                                    "KAT_ID": "19",
                                    "raktar_kod": "NULL",
                                    "megys": "NULL",
                                    "(No column name)": "19"
                                },
                                {
                                    "KAT_ID": "24",
                                    "raktar_kod": "NULL",
                                    "megys": "NULL",
                                    "(No column name)": "7"
                                },
                                {
                                    "KAT_ID": "30",
                                    "raktar_kod": "NULL",
                                    "megys": "NULL",
                                    "(No column name)": "7"
                                },
                                {
                                    "KAT_ID": "35",
                                    "raktar_kod": "NULL",
                                    "megys": "NULL",
                                    "(No column name)": "7"
                                },
                                {
                                    "KAT_ID": "41",
                                    "raktar_kod": "NULL",
                                    "megys": "NULL",
                                    "(No column name)": "13"
                                },
                                {
                                    "KAT_ID": "45",
                                    "raktar_kod": "NULL",
                                    "megys": "NULL",
                                    "(No column name)": "11"
                                },
                                {
                                    "KAT_ID": "46",
                                    "raktar_kod": "NULL",
                                    "megys": "NULL",
                                    "(No column name)": "7"
                                },
                                {
                                    "KAT_ID": "52",
                                    "raktar_kod": "NULL",
                                    "megys": "NULL",
                                    "(No column name)": "26"
                                },
                                {
                                    "KAT_ID": "54",
                                    "raktar_kod": "NULL",
                                    "megys": "NULL",
                                    "(No column name)": "6"
                                },
                                {
                                    "KAT_ID": "66",
                                    "raktar_kod": "NULL",
                                    "megys": "NULL",
                                    "(No column name)": "7"
                                },
                                {
                                    "KAT_ID": "78",
                                    "raktar_kod": "NULL",
                                    "megys": "NULL",
                                    "(No column name)": "24"
                                },
                                {
                                    "KAT_ID": "83",
                                    "raktar_kod": "NULL",
                                    "megys": "NULL",
                                    "(No column name)": "6"
                                },
                                {
                                    "KAT_ID": "85",
                                    "raktar_kod": "NULL",
                                    "megys": "NULL",
                                    "(No column name)": "16"
                                },
                                {
                                    "KAT_ID": "91",
                                    "raktar_kod": "NULL",
                                    "megys": "NULL",
                                    "(No column name)": "7"
                                },
                                {
                                    "KAT_ID": "93",
                                    "raktar_kod": "NULL",
                                    "megys": "NULL",
                                    "(No column name)": "7"
                                },
                                {
                                    "KAT_ID": "96",
                                    "raktar_kod": "NULL",
                                    "megys": "NULL",
                                    "(No column name)": "9"
                                },
                                {
                                    "KAT_ID": "97",
                                    "raktar_kod": "NULL",
                                    "megys": "NULL",
                                    "(No column name)": "10"
                                },
                                {
                                    "KAT_ID": "100",
                                    "raktar_kod": "NULL",
                                    "megys": "NULL",
                                    "(No column name)": "9"
                                },
                                {
                                    "KAT_ID": "118",
                                    "raktar_kod": "NULL",
                                    "megys": "NULL",
                                    "(No column name)": "9"
                                },
                                {
                                    "KAT_ID": "122",
                                    "raktar_kod": "NULL",
                                    "megys": "NULL",
                                    "(No column name)": "7"
                                },
                                {
                                    "KAT_ID": "124",
                                    "raktar_kod": "NULL",
                                    "megys": "NULL",
                                    "(No column name)": "10"
                                },
                                {
                                    "KAT_ID": "133",
                                    "raktar_kod": "NULL",
                                    "megys": "NULL",
                                    "(No column name)": "6"
                                },
                                {
                                    "KAT_ID": "145",
                                    "raktar_kod": "NULL",
                                    "megys": "NULL",
                                    "(No column name)": "18"
                                },
                                {
                                    "KAT_ID": "146",
                                    "raktar_kod": "NULL",
                                    "megys": "NULL",
                                    "(No column name)": "7"
                                },
                                {
                                    "KAT_ID": "149",
                                    "raktar_kod": "NULL",
                                    "megys": "NULL",
                                    "(No column name)": "6"
                                },
                                {
                                    "KAT_ID": "152",
                                    "raktar_kod": "NULL",
                                    "megys": "NULL",
                                    "(No column name)": "6"
                                }
                            ]
                        },
                        "text/html": [
                            "<table>",
                            "<tr><th>KAT_ID</th><th>raktar_kod</th><th>megys</th><th>(No column name)</th></tr>",
                            "<tr><td>NULL</td><td>1</td><td>db</td><td>11</td></tr>",
                            "<tr><td>NULL</td><td>1</td><td>NULL</td><td>11</td></tr>",
                            "<tr><td>NULL</td><td>3</td><td>db</td><td>14</td></tr>",
                            "<tr><td>NULL</td><td>3</td><td>NULL</td><td>14</td></tr>",
                            "<tr><td>NULL</td><td>5</td><td>csomag</td><td>7</td></tr>",
                            "<tr><td>NULL</td><td>5</td><td>db</td><td>72</td></tr>",
                            "<tr><td>NULL</td><td>5</td><td>NULL</td><td>86</td></tr>",
                            "<tr><td>NULL</td><td>6</td><td>csomag</td><td>9</td></tr>",
                            "<tr><td>NULL</td><td>6</td><td>db</td><td>94</td></tr>",
                            "<tr><td>NULL</td><td>6</td><td>NULL</td><td>106</td></tr>",
                            "<tr><td>NULL</td><td>7</td><td>csomag</td><td>9</td></tr>",
                            "<tr><td>NULL</td><td>7</td><td>db</td><td>88</td></tr>",
                            "<tr><td>NULL</td><td>7</td><td>NULL</td><td>100</td></tr>",
                            "<tr><td>NULL</td><td>8</td><td>csomag</td><td>8</td></tr>",
                            "<tr><td>NULL</td><td>8</td><td>db</td><td>109</td></tr>",
                            "<tr><td>NULL</td><td>8</td><td>ív</td><td>6</td></tr>",
                            "<tr><td>NULL</td><td>8</td><td>NULL</td><td>123</td></tr>",
                            "<tr><td>NULL</td><td>9</td><td>csomag</td><td>11</td></tr>",
                            "<tr><td>NULL</td><td>9</td><td>db</td><td>86</td></tr>",
                            "<tr><td>NULL</td><td>9</td><td>NULL</td><td>102</td></tr>",
                            "<tr><td>4</td><td>NULL</td><td>NULL</td><td>15</td></tr>",
                            "<tr><td>6</td><td>NULL</td><td>NULL</td><td>20</td></tr>",
                            "<tr><td>16</td><td>NULL</td><td>NULL</td><td>7</td></tr>",
                            "<tr><td>19</td><td>NULL</td><td>NULL</td><td>19</td></tr>",
                            "<tr><td>24</td><td>NULL</td><td>NULL</td><td>7</td></tr>",
                            "<tr><td>30</td><td>NULL</td><td>NULL</td><td>7</td></tr>",
                            "<tr><td>35</td><td>NULL</td><td>NULL</td><td>7</td></tr>",
                            "<tr><td>41</td><td>NULL</td><td>NULL</td><td>13</td></tr>",
                            "<tr><td>45</td><td>NULL</td><td>NULL</td><td>11</td></tr>",
                            "<tr><td>46</td><td>NULL</td><td>NULL</td><td>7</td></tr>",
                            "<tr><td>52</td><td>NULL</td><td>NULL</td><td>26</td></tr>",
                            "<tr><td>54</td><td>NULL</td><td>NULL</td><td>6</td></tr>",
                            "<tr><td>66</td><td>NULL</td><td>NULL</td><td>7</td></tr>",
                            "<tr><td>78</td><td>NULL</td><td>NULL</td><td>24</td></tr>",
                            "<tr><td>83</td><td>NULL</td><td>NULL</td><td>6</td></tr>",
                            "<tr><td>85</td><td>NULL</td><td>NULL</td><td>16</td></tr>",
                            "<tr><td>91</td><td>NULL</td><td>NULL</td><td>7</td></tr>",
                            "<tr><td>93</td><td>NULL</td><td>NULL</td><td>7</td></tr>",
                            "<tr><td>96</td><td>NULL</td><td>NULL</td><td>9</td></tr>",
                            "<tr><td>97</td><td>NULL</td><td>NULL</td><td>10</td></tr>",
                            "<tr><td>100</td><td>NULL</td><td>NULL</td><td>9</td></tr>",
                            "<tr><td>118</td><td>NULL</td><td>NULL</td><td>9</td></tr>",
                            "<tr><td>122</td><td>NULL</td><td>NULL</td><td>7</td></tr>",
                            "<tr><td>124</td><td>NULL</td><td>NULL</td><td>10</td></tr>",
                            "<tr><td>133</td><td>NULL</td><td>NULL</td><td>6</td></tr>",
                            "<tr><td>145</td><td>NULL</td><td>NULL</td><td>18</td></tr>",
                            "<tr><td>146</td><td>NULL</td><td>NULL</td><td>7</td></tr>",
                            "<tr><td>149</td><td>NULL</td><td>NULL</td><td>6</td></tr>",
                            "<tr><td>152</td><td>NULL</td><td>NULL</td><td>6</td></tr>",
                            "</table>"
                        ]
                    }
                }
            ],
            "execution_count": 22
        },
        {
            "cell_type": "markdown",
            "source": [
                "```\n",
                "3. Készítsünk listát az egyes termékkategóriákban lévő termékek számáról! \n",
                "\n",
                "```\n",
                "\n",
                "a. Elég megjeleníteni a kategóriák azonosítóit és a darabszámokat!   \n",
                "<span style=\"color: var(--vscode-foreground);\">b. A lista megfelelően jelölve tartalmazza a végösszeget is!&nbsp;<br></span> <span style=\"color: var(--vscode-foreground);\">c. Az oszlopokat nevezzük el értelemszerűen!&nbsp;<br></span> <span style=\"color: var(--vscode-foreground);\">d. A listát rendezzük a darabszám szerint növekvő sorrendbe!</span>\n",
                "\n",
                "  \n",
                "\n",
                "![](https://moodle.uni-corvinus.hu/theme/image.php/adaptable/atto_h5p/1709548862/icon)"
            ],
            "metadata": {
                "azdata_cell_guid": "d7876bb9-76d0-4d07-baed-3cb17b2f96c3"
            },
            "attachments": {}
        },
        {
            "cell_type": "code",
            "source": [
                "select iif(GROUPING_ID(KAT_ID) = 1, 'Összesen',  cast(KAT_ID as nVARCHAR(4))) as 'Kategória azonosító', count(TERMEKKOD) as 'termékek száma', \r\n",
                "GROUPING_ID(KAT_ID) as 'próba' -- mindig 0, kiv. a rész és végösszegeket\r\n",
                "-- iif-es részt be lehet rakni a group byba is de nem muszáj\r\n",
                "-- az eleje azt jelenti, hogy van ilyen összegelés, akkor = 1\r\n",
                "from Termek\r\n",
                "group by rollup (KAT_ID)   -- ha csak egy oszlop van, a rollup és a cube ugyanazt csinálja, két oszlopnál már van \r\n",
                "order by 2"
            ],
            "metadata": {
                "azdata_cell_guid": "56ec19ce-e249-4551-b2a8-f17569765acc",
                "language": "sql"
            },
            "outputs": [],
            "execution_count": null
        },
        {
            "cell_type": "markdown",
            "source": [
                "4. <span style=\"background-color: rgb(255, 255, 255); color: rgb(0, 0, 0); font-family: &quot;Open Sans&quot;, sans-serif; font-size: 14.44px;\">Készítsünk listát az ügyfelek számáról születési év szerint, azon belül nem szerinti bontásban!&nbsp;</span> \n",
                "\n",
                "a. A lista megfelelően jelölve tartalmazza a részösszegeket és a végösszeget is!  \n",
                "b. Az oszlopoknak adjunk nevet értelemszerűen!"
            ],
            "metadata": {
                "azdata_cell_guid": "8e7fef82-8022-49a0-8255-fc2846c2134b"
            },
            "attachments": {}
        },
        {
            "cell_type": "code",
            "source": [
                ""
            ],
            "metadata": {
                "azdata_cell_guid": "36f7b396-4a1f-45e5-8720-2302537c91bc",
                "language": "sql"
            },
            "outputs": [],
            "execution_count": null
        },
        {
            "cell_type": "markdown",
            "source": [
                "5. <span style=\"background-color: rgb(255, 255, 255); color: rgb(0, 0, 0); font-family: &quot;Open Sans&quot;, sans-serif; font-size: 14.44px;\">Készítsünk listát a termékek számáról a felvitel hónapja, azon belül napja szerint csoportosítva.&nbsp;</span> \n",
                "\n",
                "a. A lista csak a részösszegeket és a végösszeget tartalmazza!  \n",
                "b. Az oszlopoknak adjunk megfelelő nevet!  \n",
                "c. Ötlet: HAVING + GROUPING\\_ID fv együttes használata"
            ],
            "metadata": {
                "azdata_cell_guid": "84239ca2-6b5e-49f5-9860-d44c11d6de32"
            },
            "attachments": {}
        },
        {
            "cell_type": "code",
            "source": [
                "SELECT MONth(FELVITEL) as 'hónap', Day(FELVITEL) as 'nap', count(TERMEKKOD) as 'termékek száma'\r\n",
                "from Termek\r\n",
                "group by  rollup (MONth(FELVITEL), Day(FELVITEL))\r\n",
                "having GROUPING_ID(DAY(FELVITEL)) > 0 -- azért, mert a végösszeg több vmiért?\r\n",
                ""
            ],
            "metadata": {
                "azdata_cell_guid": "06d9a62b-9430-424b-a135-d80e675f0eb3",
                "language": "sql"
            },
            "outputs": [
                {
                    "output_type": "display_data",
                    "data": {
                        "text/html": "(5 rows affected)"
                    },
                    "metadata": {}
                },
                {
                    "output_type": "display_data",
                    "data": {
                        "text/html": "Total execution time: 00:00:00.010"
                    },
                    "metadata": {}
                },
                {
                    "output_type": "execute_result",
                    "metadata": {},
                    "execution_count": 19,
                    "data": {
                        "application/vnd.dataresource+json": {
                            "schema": {
                                "fields": [
                                    {
                                        "name": "hónap"
                                    },
                                    {
                                        "name": "nap"
                                    },
                                    {
                                        "name": "termékek száma"
                                    }
                                ]
                            },
                            "data": [
                                {
                                    "hónap": "7",
                                    "nap": "NULL",
                                    "termékek száma": "355"
                                },
                                {
                                    "hónap": "8",
                                    "nap": "NULL",
                                    "termékek száma": "194"
                                },
                                {
                                    "hónap": "9",
                                    "nap": "NULL",
                                    "termékek száma": "1"
                                },
                                {
                                    "hónap": "12",
                                    "nap": "NULL",
                                    "termékek száma": "1"
                                },
                                {
                                    "hónap": "NULL",
                                    "nap": "NULL",
                                    "termékek száma": "551"
                                }
                            ]
                        },
                        "text/html": [
                            "<table>",
                            "<tr><th>hónap</th><th>nap</th><th>termékek száma</th></tr>",
                            "<tr><td>7</td><td>NULL</td><td>355</td></tr>",
                            "<tr><td>8</td><td>NULL</td><td>194</td></tr>",
                            "<tr><td>9</td><td>NULL</td><td>1</td></tr>",
                            "<tr><td>12</td><td>NULL</td><td>1</td></tr>",
                            "<tr><td>NULL</td><td>NULL</td><td>551</td></tr>",
                            "</table>"
                        ]
                    }
                }
            ],
            "execution_count": 19
        }
    ]
}